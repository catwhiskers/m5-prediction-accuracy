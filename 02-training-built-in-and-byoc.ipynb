{
 "cells": [
  {
   "cell_type": "markdown",
   "metadata": {},
   "source": [
    "### Import Necessary Packages"
   ]
  },
  {
   "cell_type": "code",
   "execution_count": 14,
   "metadata": {},
   "outputs": [],
   "source": [
    "import warnings\n",
    "warnings.filterwarnings('ignore')\n",
    "import numpy as np\n",
    "import matplotlib.pyplot as plt\n",
    "import seaborn as sns\n",
    "import sagemaker \n",
    "import boto3 \n",
    "from sklearn import preprocessing, metrics\n",
    "import gc\n",
    "import os\n",
    "import pandas as pd "
   ]
  },
  {
   "cell_type": "markdown",
   "metadata": {},
   "source": [
    "### Get xgboost 1.0-1 container "
   ]
  },
  {
   "cell_type": "code",
   "execution_count": 2,
   "metadata": {},
   "outputs": [
    {
     "name": "stderr",
     "output_type": "stream",
     "text": [
      "The method get_image_uri has been renamed in sagemaker>=2.\n",
      "See: https://sagemaker.readthedocs.io/en/stable/v2.html for details.\n"
     ]
    },
    {
     "data": {
      "text/plain": [
       "'683313688378.dkr.ecr.us-east-1.amazonaws.com/sagemaker-xgboost:1.0-1-cpu-py3'"
      ]
     },
     "execution_count": 2,
     "metadata": {},
     "output_type": "execute_result"
    }
   ],
   "source": [
    "from sagemaker.amazon.amazon_estimator import get_image_uri\n",
    "container = get_image_uri(boto3.Session().region_name, 'xgboost', '1.0-1')\n",
    "container "
   ]
  },
  {
   "cell_type": "markdown",
   "metadata": {},
   "source": [
    "### Produce SageMaker s3_input object"
   ]
  },
  {
   "cell_type": "code",
   "execution_count": 7,
   "metadata": {},
   "outputs": [
    {
     "data": {
      "text/plain": [
       "(<sagemaker.inputs.TrainingInput at 0x7fdbb8b96080>,\n",
       " <sagemaker.inputs.TrainingInput at 0x7fdbb8b961d0>)"
      ]
     },
     "execution_count": 7,
     "metadata": {},
     "output_type": "execute_result"
    }
   ],
   "source": [
    "prefix = 'demand-prediction'\n",
    "bucket = sagemaker.Session().default_bucket()\n",
    "\n",
    "s3_input_train = sagemaker.inputs.TrainingInput(s3_data='s3://{}/{}/train'.format(bucket, prefix), content_type='csv')\n",
    "s3_input_validation = sagemaker.inputs.TrainingInput(s3_data='s3://{}/{}/validation/'.format(bucket, prefix), content_type='csv')\n",
    "(s3_input_train, s3_input_validation)"
   ]
  },
  {
   "cell_type": "markdown",
   "metadata": {},
   "source": [
    "### Training"
   ]
  },
  {
   "cell_type": "code",
   "execution_count": 8,
   "metadata": {},
   "outputs": [
    {
     "name": "stderr",
     "output_type": "stream",
     "text": [
      "train_instance_count has been renamed in sagemaker>=2.\n",
      "See: https://sagemaker.readthedocs.io/en/stable/v2.html for details.\n",
      "train_instance_type has been renamed in sagemaker>=2.\n",
      "See: https://sagemaker.readthedocs.io/en/stable/v2.html for details.\n"
     ]
    },
    {
     "name": "stdout",
     "output_type": "stream",
     "text": [
      "2020-11-18 06:20:56 Starting - Starting the training job...\n",
      "2020-11-18 06:20:58 Starting - Launching requested ML instances......\n",
      "2020-11-18 06:22:11 Starting - Preparing the instances for training......\n",
      "2020-11-18 06:23:16 Downloading - Downloading input data......\n",
      "2020-11-18 06:24:02 Training - Downloading the training image..\u001b[34mINFO:sagemaker-containers:Imported framework sagemaker_xgboost_container.training\u001b[0m\n",
      "\u001b[34mINFO:sagemaker-containers:Failed to parse hyperparameter objective value reg:linear to Json.\u001b[0m\n",
      "\u001b[34mReturning the value itself\u001b[0m\n",
      "\u001b[34mINFO:sagemaker-containers:No GPUs detected (normal if no gpus installed)\u001b[0m\n",
      "\u001b[34mINFO:sagemaker_xgboost_container.training:Running XGBoost Sagemaker in algorithm mode\u001b[0m\n",
      "\u001b[34mINFO:root:Determined delimiter of CSV input is ','\u001b[0m\n",
      "\u001b[34mINFO:root:Determined delimiter of CSV input is ','\u001b[0m\n",
      "\u001b[34mINFO:root:Determined delimiter of CSV input is ','\u001b[0m\n",
      "\n",
      "2020-11-18 06:24:29 Training - Training image download completed. Training in progress.\u001b[34m[06:24:42] 5655000x33 matrix with 184896885 entries loaded from /opt/ml/input/data/train?format=csv&label_column=0&delimiter=,\u001b[0m\n",
      "\u001b[34mINFO:root:Determined delimiter of CSV input is ','\u001b[0m\n",
      "\u001b[34m[06:24:42] 84000x33 matrix with 2764794 entries loaded from /opt/ml/input/data/validation?format=csv&label_column=0&delimiter=,\u001b[0m\n",
      "\u001b[34mINFO:root:Single node training.\u001b[0m\n",
      "\u001b[34mINFO:root:Train matrix has 5655000 rows\u001b[0m\n",
      "\u001b[34mINFO:root:Validation matrix has 84000 rows\u001b[0m\n",
      "\u001b[34m[06:24:42] WARNING: /workspace/src/objective/regression_obj.cu:167: reg:linear is now deprecated in favor of reg:squarederror.\u001b[0m\n",
      "\u001b[34m[06:24:42] WARNING: /workspace/src/learner.cc:328: \u001b[0m\n",
      "\u001b[34mParameters: { num_round, silent } might not be used.\n",
      "\n",
      "  This may not be accurate due to some parameters are only used in language bindings but\n",
      "  passed down to XGBoost core.  Or some parameters are not used but slip through this\n",
      "  verification. Please open an issue if you find above cases.\n",
      "\n",
      "\u001b[0m\n",
      "\u001b[34m[06:24:43] WARNING: /workspace/src/gbm/gbtree.cc:138: Tree method is automatically selected to be 'approx' for faster speed. To use old behavior (exact greedy algorithm on single machine), set tree_method to 'exact'.\u001b[0m\n",
      "\u001b[34m[0]#011train-rmse:2.71991#011validation-rmse:2.72042\u001b[0m\n",
      "\u001b[34m[1]#011train-rmse:2.54167#011validation-rmse:2.49341\u001b[0m\n",
      "\u001b[34m[2]#011train-rmse:2.41708#011validation-rmse:2.33006\u001b[0m\n",
      "\u001b[34m[3]#011train-rmse:2.32961#011validation-rmse:2.22784\u001b[0m\n",
      "\u001b[34m[4]#011train-rmse:2.27055#011validation-rmse:2.15082\u001b[0m\n",
      "\u001b[34m[5]#011train-rmse:2.22968#011validation-rmse:2.09843\u001b[0m\n",
      "\u001b[34m[6]#011train-rmse:2.20243#011validation-rmse:2.06473\u001b[0m\n",
      "\u001b[34m[7]#011train-rmse:2.18311#011validation-rmse:2.04217\u001b[0m\n",
      "\u001b[34m[8]#011train-rmse:2.16710#011validation-rmse:2.02127\u001b[0m\n",
      "\u001b[34m[9]#011train-rmse:2.15638#011validation-rmse:2.00510\u001b[0m\n",
      "\u001b[34m[10]#011train-rmse:2.14740#011validation-rmse:1.99514\u001b[0m\n",
      "\u001b[34m[11]#011train-rmse:2.14107#011validation-rmse:1.98276\u001b[0m\n",
      "\u001b[34m[12]#011train-rmse:2.13581#011validation-rmse:1.97415\u001b[0m\n",
      "\u001b[34m[13]#011train-rmse:2.13137#011validation-rmse:1.96905\u001b[0m\n",
      "\u001b[34m[14]#011train-rmse:2.12844#011validation-rmse:1.96426\u001b[0m\n",
      "\u001b[34m[15]#011train-rmse:2.12521#011validation-rmse:1.95805\u001b[0m\n",
      "\u001b[34m[16]#011train-rmse:2.12272#011validation-rmse:1.95490\u001b[0m\n",
      "\u001b[34m[17]#011train-rmse:2.12026#011validation-rmse:1.95266\u001b[0m\n",
      "\u001b[34m[18]#011train-rmse:2.11827#011validation-rmse:1.95108\u001b[0m\n",
      "\u001b[34m[19]#011train-rmse:2.11568#011validation-rmse:1.94921\u001b[0m\n",
      "\n",
      "2020-11-18 06:29:43 Uploading - Uploading generated training model\n",
      "2020-11-18 06:29:43 Completed - Training job completed\n",
      "Training seconds: 387\n",
      "Billable seconds: 387\n"
     ]
    }
   ],
   "source": [
    "from sagemaker import get_execution_role\n",
    "\n",
    "role = get_execution_role()\n",
    "\n",
    "sess = sagemaker.Session()\n",
    "\n",
    "xgb = sagemaker.estimator.Estimator(container,\n",
    "                                    role, \n",
    "                                    train_instance_count=1, \n",
    "                                    train_instance_type='ml.m4.xlarge',\n",
    "                                    output_path='s3://{}/{}/output'.format(bucket, prefix),\n",
    "                                    sagemaker_session=sess)\n",
    "xgb.set_hyperparameters(max_depth=5,\n",
    "                        eta=0.2,\n",
    "                        gamma=4,\n",
    "                        min_child_weight=6,\n",
    "                        subsample=0.8,\n",
    "                        silent=0,\n",
    "                        objective='reg:linear',\n",
    "                        num_round=20)\n",
    "\n",
    "xgb.fit({'train': s3_input_train, 'validation': s3_input_validation})\n"
   ]
  },
  {
   "cell_type": "markdown",
   "metadata": {},
   "source": [
    "### Deploy the Inference Endpoint"
   ]
  },
  {
   "cell_type": "code",
   "execution_count": 11,
   "metadata": {},
   "outputs": [
    {
     "name": "stdout",
     "output_type": "stream",
     "text": [
      "-----------------------!"
     ]
    }
   ],
   "source": [
    "from sagemaker.serializers import CSVSerializer\n",
    "serializer=CSVSerializer()\n",
    "xgb_predictor = xgb.deploy(instance_type='ml.c4.xlarge', initial_instance_count=1, serializer=CSVSerializer())"
   ]
  },
  {
   "cell_type": "code",
   "execution_count": 16,
   "metadata": {},
   "outputs": [
    {
     "data": {
      "image/png": "[encoded data removed]",
      "text/plain": [
       "<Figure size 432x288 with 1 Axes>"
      ]
     },
     "metadata": {
      "needs_background": "light"
     },
     "output_type": "display_data"
    },
    {
     "data": {
      "image/png": "[encoded data removed]",
      "text/plain": [
       "<Figure size 432x288 with 1 Axes>"
      ]
     },
     "metadata": {
      "needs_background": "light"
     },
     "output_type": "display_data"
    }
   ],
   "source": [
    "def to_csv(aryarray):\n",
    "    result = ''\n",
    "    for aa in aryarray:\n",
    "        result += \",\".join(aa.astype(\"str\").tolist()) +'\\n'\n",
    "    return result \n",
    "        \n",
    "\n",
    "def predict(data, model):\n",
    "    return model.predict(to_csv(data)).decode('utf-8')\n",
    "\n",
    "features = ['demand', 'item_id', 'dept_id', 'cat_id', 'store_id', 'state_id', 'year', 'month', 'week', 'day', 'dayofweek', 'event_name_1', 'event_type_1', 'event_name_2', 'event_type_2', \n",
    "            'snap_CA', 'snap_TX', 'snap_WI', 'sell_price', 'lag_t28', 'lag_t29', 'lag_t30', 'rolling_mean_t7', 'rolling_std_t7', 'rolling_mean_t30', 'rolling_mean_t90', \n",
    "            'rolling_mean_t180', 'rolling_std_t30', 'price_change_t1', 'price_change_t365', 'rolling_price_std_t7', 'rolling_price_std_t30', 'rolling_skew_t30', 'rolling_kurt_t30']\n",
    "\n",
    "validation = pd.read_csv('test.csv', names=features) \n",
    "\n",
    "## Generate predictions on the test set for the difference models\n",
    "import matplotlib.pyplot as plt\n",
    "def plot_result(item, store): \n",
    "    data = validation[(validation['item_id']==item) & (validation['store_id']==store)]\n",
    "    predictions = predict(data.values[:,1:], xgb_predictor)\n",
    "    predictions = np.array(predictions.split(\",\")).astype('float')\n",
    "    x = range(0, len(predictions))\n",
    "    fig = plt.figure()\n",
    "    plt.plot(x, predictions, color='red')\n",
    "    plt.plot(x, data['demand'].values, color='blue')\n",
    "\n",
    "plot_result(114, 8)    \n",
    "plot_result(294, 6)\n"
   ]
  },
  {
   "cell_type": "code",
   "execution_count": null,
   "metadata": {},
   "outputs": [],
   "source": []
  }
 ],
 "metadata": {
  "kernelspec": {
   "display_name": "conda_python3",
   "language": "python",
   "name": "conda_python3"
  },
  "language_info": {
   "codemirror_mode": {
    "name": "ipython",
    "version": 3
   },
   "file_extension": ".py",
   "mimetype": "text/x-python",
   "name": "python",
   "nbconvert_exporter": "python",
   "pygments_lexer": "ipython3",
   "version": "3.6.10"
  }
 },
 "nbformat": 4,
 "nbformat_minor": 4
}
