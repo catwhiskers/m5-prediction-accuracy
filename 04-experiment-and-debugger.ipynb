{
 "cells": [
  {
   "cell_type": "markdown",
   "metadata": {},
   "source": [
    "### Import and Install Necessary Packages "
   ]
  },
  {
   "cell_type": "code",
   "execution_count": 1,
   "metadata": {},
   "outputs": [
    {
     "name": "stdout",
     "output_type": "stream",
     "text": [
      "Requirement already satisfied: sagemaker-experiments==0.1.24 in /home/ec2-user/anaconda3/envs/python3/lib/python3.6/site-packages (0.1.24)\n",
      "Requirement already satisfied: boto3>=1.12.8 in /home/ec2-user/anaconda3/envs/python3/lib/python3.6/site-packages (from sagemaker-experiments==0.1.24) (1.15.16)\n",
      "Requirement already satisfied: s3transfer<0.4.0,>=0.3.0 in /home/ec2-user/anaconda3/envs/python3/lib/python3.6/site-packages (from boto3>=1.12.8->sagemaker-experiments==0.1.24) (0.3.3)\n",
      "Requirement already satisfied: jmespath<1.0.0,>=0.7.1 in /home/ec2-user/anaconda3/envs/python3/lib/python3.6/site-packages (from boto3>=1.12.8->sagemaker-experiments==0.1.24) (0.10.0)\n",
      "Requirement already satisfied: botocore<1.19.0,>=1.18.16 in /home/ec2-user/anaconda3/envs/python3/lib/python3.6/site-packages (from boto3>=1.12.8->sagemaker-experiments==0.1.24) (1.18.16)\n",
      "Requirement already satisfied: python-dateutil<3.0.0,>=2.1 in /home/ec2-user/anaconda3/envs/python3/lib/python3.6/site-packages (from botocore<1.19.0,>=1.18.16->boto3>=1.12.8->sagemaker-experiments==0.1.24) (2.8.1)\n",
      "Requirement already satisfied: urllib3<1.26,>=1.20; python_version != \"3.4\" in /home/ec2-user/anaconda3/envs/python3/lib/python3.6/site-packages (from botocore<1.19.0,>=1.18.16->boto3>=1.12.8->sagemaker-experiments==0.1.24) (1.25.10)\n",
      "Requirement already satisfied: six>=1.5 in /home/ec2-user/anaconda3/envs/python3/lib/python3.6/site-packages (from python-dateutil<3.0.0,>=2.1->botocore<1.19.0,>=1.18.16->boto3>=1.12.8->sagemaker-experiments==0.1.24) (1.14.0)\n",
      "\u001b[33mWARNING: You are using pip version 20.0.2; however, version 20.2.4 is available.\n",
      "You should consider upgrading via the '/home/ec2-user/anaconda3/envs/python3/bin/python -m pip install --upgrade pip' command.\u001b[0m\n",
      "Requirement already satisfied: smdebug==0.9.4 in /home/ec2-user/anaconda3/envs/python3/lib/python3.6/site-packages (0.9.4)\n",
      "Requirement already satisfied: packaging in /home/ec2-user/anaconda3/envs/python3/lib/python3.6/site-packages (from smdebug==0.9.4) (20.1)\n",
      "Requirement already satisfied: numpy<2.0.0,>1.16.0 in /home/ec2-user/anaconda3/envs/python3/lib/python3.6/site-packages (from smdebug==0.9.4) (1.18.1)\n",
      "Requirement already satisfied: protobuf>=3.6.0 in /home/ec2-user/anaconda3/envs/python3/lib/python3.6/site-packages (from smdebug==0.9.4) (3.11.4)\n",
      "Requirement already satisfied: boto3>=1.10.32 in /home/ec2-user/anaconda3/envs/python3/lib/python3.6/site-packages (from smdebug==0.9.4) (1.15.16)\n",
      "Requirement already satisfied: pyparsing>=2.0.2 in /home/ec2-user/anaconda3/envs/python3/lib/python3.6/site-packages (from packaging->smdebug==0.9.4) (2.4.6)\n",
      "Requirement already satisfied: six in /home/ec2-user/anaconda3/envs/python3/lib/python3.6/site-packages (from packaging->smdebug==0.9.4) (1.14.0)\n",
      "Requirement already satisfied: setuptools in /home/ec2-user/anaconda3/envs/python3/lib/python3.6/site-packages (from protobuf>=3.6.0->smdebug==0.9.4) (45.2.0.post20200210)\n",
      "Requirement already satisfied: s3transfer<0.4.0,>=0.3.0 in /home/ec2-user/anaconda3/envs/python3/lib/python3.6/site-packages (from boto3>=1.10.32->smdebug==0.9.4) (0.3.3)\n",
      "Requirement already satisfied: jmespath<1.0.0,>=0.7.1 in /home/ec2-user/anaconda3/envs/python3/lib/python3.6/site-packages (from boto3>=1.10.32->smdebug==0.9.4) (0.10.0)\n",
      "Requirement already satisfied: botocore<1.19.0,>=1.18.16 in /home/ec2-user/anaconda3/envs/python3/lib/python3.6/site-packages (from boto3>=1.10.32->smdebug==0.9.4) (1.18.16)\n",
      "Requirement already satisfied: urllib3<1.26,>=1.20; python_version != \"3.4\" in /home/ec2-user/anaconda3/envs/python3/lib/python3.6/site-packages (from botocore<1.19.0,>=1.18.16->boto3>=1.10.32->smdebug==0.9.4) (1.25.10)\n",
      "Requirement already satisfied: python-dateutil<3.0.0,>=2.1 in /home/ec2-user/anaconda3/envs/python3/lib/python3.6/site-packages (from botocore<1.19.0,>=1.18.16->boto3>=1.10.32->smdebug==0.9.4) (2.8.1)\n",
      "\u001b[33mWARNING: You are using pip version 20.0.2; however, version 20.2.4 is available.\n",
      "You should consider upgrading via the '/home/ec2-user/anaconda3/envs/python3/bin/python -m pip install --upgrade pip' command.\u001b[0m\n"
     ]
    }
   ],
   "source": [
    "!pip install sagemaker-experiments==0.1.24\n",
    "!pip install smdebug==0.9.4"
   ]
  },
  {
   "cell_type": "code",
   "execution_count": 2,
   "metadata": {},
   "outputs": [],
   "source": [
    "import boto3\n",
    "import sagemaker\n",
    "from sagemaker.amazon.amazon_estimator import get_image_uri\n",
    "import os "
   ]
  },
  {
   "cell_type": "markdown",
   "metadata": {},
   "source": [
    "### Define S3 Bucket and Prefix of Training and Testing Data "
   ]
  },
  {
   "cell_type": "code",
   "execution_count": 3,
   "metadata": {},
   "outputs": [],
   "source": [
    "bucket=sagemaker.Session().default_bucket()\n",
    "prefix = 'demand-prediction'"
   ]
  },
  {
   "cell_type": "markdown",
   "metadata": {},
   "source": [
    "### Get xgboost 1.0-1 Container "
   ]
  },
  {
   "cell_type": "code",
   "execution_count": 4,
   "metadata": {},
   "outputs": [
    {
     "name": "stderr",
     "output_type": "stream",
     "text": [
      "'get_image_uri' method will be deprecated in favor of 'ImageURIProvider' class in SageMaker Python SDK v2.\n"
     ]
    }
   ],
   "source": [
    "container = get_image_uri(boto3.Session().region_name, 'xgboost',repo_version=\"1.0-1\")"
   ]
  },
  {
   "cell_type": "markdown",
   "metadata": {},
   "source": [
    "### Produce s3_input object for SageMaker "
   ]
  },
  {
   "cell_type": "code",
   "execution_count": 5,
   "metadata": {
    "scrolled": true
   },
   "outputs": [
    {
     "name": "stderr",
     "output_type": "stream",
     "text": [
      "'s3_input' class will be renamed to 'TrainingInput' in SageMaker Python SDK v2.\n",
      "'s3_input' class will be renamed to 'TrainingInput' in SageMaker Python SDK v2.\n"
     ]
    }
   ],
   "source": [
    "s3_input_train = sagemaker.s3_input(s3_data='s3://{}/{}/train'.format(bucket, prefix), content_type='csv')\n",
    "s3_input_validation = sagemaker.s3_input(s3_data='s3://{}/{}/validation/'.format(bucket, prefix), content_type='csv')\n"
   ]
  },
  {
   "cell_type": "markdown",
   "metadata": {},
   "source": [
    "### Create SageMaker Experiment "
   ]
  },
  {
   "cell_type": "code",
   "execution_count": 6,
   "metadata": {},
   "outputs": [
    {
     "name": "stdout",
     "output_type": "stream",
     "text": [
      "Experiment(sagemaker_boto_client=<botocore.client.SageMaker object at 0x7f0c0eae78d0>,experiment_name='m5-predict-1603732816',description='Predict the sales units of items',tags=None,experiment_arn='arn:aws:sagemaker:us-east-1:230755935769:experiment/m5-predict-1603732816',response_metadata={'RequestId': 'ea914753-23f4-4e1e-bf3f-49853ab2f5fd', 'HTTPStatusCode': 200, 'HTTPHeaders': {'x-amzn-requestid': 'ea914753-23f4-4e1e-bf3f-49853ab2f5fd', 'content-type': 'application/x-amz-json-1.1', 'content-length': '93', 'date': 'Mon, 26 Oct 2020 17:20:16 GMT'}, 'RetryAttempts': 0})\n"
     ]
    }
   ],
   "source": [
    "from smexperiments.experiment import Experiment\n",
    "from sagemaker import get_execution_role\n",
    "import time \n",
    "import boto3\n",
    "\n",
    "role = get_execution_role()\n",
    "account_id = role.split(':')[4]\n",
    "region = boto3.Session().region_name\n",
    "\n",
    "sm = boto3.Session().client(service_name='sagemaker',region_name=region)\n",
    "m5predict_experiment = Experiment.create(\n",
    "    experiment_name=f\"m5-predict-{int(time.time())}\", \n",
    "    description=\"Predict the sales units of items\", \n",
    "    sagemaker_boto_client=sm)\n",
    "print(m5predict_experiment)\n"
   ]
  },
  {
   "cell_type": "markdown",
   "metadata": {},
   "source": [
    "### Define Debugger Hooks and Rules "
   ]
  },
  {
   "cell_type": "code",
   "execution_count": 7,
   "metadata": {},
   "outputs": [],
   "source": [
    "from sagemaker.debugger import DebuggerHookConfig, CollectionConfig\n",
    "\n",
    "## define which kind of tensors to save  \n",
    "def get_debugger_hook(bucket_path, save_interval):\n",
    "    return DebuggerHookConfig(\n",
    "        s3_output_path=bucket_path,  # Required\n",
    "        collection_configs=[\n",
    "            CollectionConfig(\n",
    "                name=\"metrics\",\n",
    "                parameters={\n",
    "                    \"save_interval\": str(save_interval)\n",
    "                }\n",
    "            ),\n",
    "            CollectionConfig(\n",
    "                name=\"feature_importance\",\n",
    "                parameters={\n",
    "                    \"save_interval\": str(save_interval)\n",
    "                }\n",
    "            )  \n",
    "        ],\n",
    "    )\n",
    "\n",
    "## define when to alert \n",
    "def get_debugger_rule(save_interval):\n",
    "    return [\n",
    "        Rule.sagemaker(\n",
    "            rule_configs.loss_not_decreasing(),\n",
    "            rule_parameters={\n",
    "                \"collection_names\": \"metrics\",\n",
    "                \"num_steps\": str(save_interval * 2),\n",
    "            },\n",
    "        ),\n",
    "    ]"
   ]
  },
  {
   "cell_type": "markdown",
   "metadata": {},
   "source": [
    "### Utility Functions to Observe Metrics Collected"
   ]
  },
  {
   "cell_type": "code",
   "execution_count": 8,
   "metadata": {},
   "outputs": [],
   "source": [
    "import matplotlib.pyplot as plt\n",
    "import seaborn as sns\n",
    "import re\n",
    "\n",
    "\n",
    "def get_data(trial, tname):\n",
    "    \"\"\"\n",
    "    For the given tensor name, walks though all the iterations\n",
    "    for which you have data and fetches the values.\n",
    "    Returns the set of steps and the values.\n",
    "    \"\"\"\n",
    "    tensor = trial.tensor(tname)\n",
    "    steps = tensor.steps()\n",
    "    vals = [tensor.value(s) for s in steps]\n",
    "    return steps, vals\n",
    "\n",
    "def plot_collection(trial, collection_name, regex='.*', figsize=(8, 6)):\n",
    "    \"\"\"\n",
    "    Takes a `trial` and a collection name, and \n",
    "    plots all tensors that match the given regex.\n",
    "    \"\"\"\n",
    "    fig, ax = plt.subplots(figsize=figsize)\n",
    "    sns.despine()\n",
    "\n",
    "    tensors = trial.collection(collection_name).tensor_names\n",
    "\n",
    "    for tensor_name in sorted(tensors):\n",
    "        if re.match(regex, tensor_name):\n",
    "            steps, data = get_data(trial, tensor_name)\n",
    "            ax.plot(steps, data, label=tensor_name)\n",
    "\n",
    "    ax.legend(loc='center left', bbox_to_anchor=(1, 0.5))\n",
    "    ax.set_xlabel('Iteration')\n",
    "\n",
    "def plot_feature_importance(trial, importance_type=\"weight\"):\n",
    "    SUPPORTED_IMPORTANCE_TYPES = [\"weight\", \"gain\", \"cover\", \"total_gain\", \"total_cover\"]\n",
    "    if importance_type not in SUPPORTED_IMPORTANCE_TYPES:\n",
    "        raise ValueError(f\"{importance_type} is not one of the supported importance types.\")\n",
    "    plot_collection(\n",
    "        trial,\n",
    "        \"feature_importance\",\n",
    "        regex=f\"feature_importance/{importance_type}/.*\")\n",
    "    "
   ]
  },
  {
   "cell_type": "code",
   "execution_count": null,
   "metadata": {},
   "outputs": [
    {
     "name": "stderr",
     "output_type": "stream",
     "text": [
      "WARNING:sagemaker.estimator:Parameter image_name will be renamed to image_uri in SageMaker Python SDK v2.\n",
      "INFO:sagemaker:Creating training-job with name: m5predict-xgboost-training-job-1603751161\n"
     ]
    },
    {
     "name": "stdout",
     "output_type": "stream",
     "text": [
      "2020-10-26 22:26:02 Starting - Starting the training job...\n",
      "2020-10-26 22:26:25 Starting - Launching requested ML instances\n",
      "********* Debugger Rule Status *********\n",
      "*\n",
      "*  LossNotDecreasing: InProgress        \n",
      "*\n",
      "****************************************\n",
      "......\n",
      "2020-10-26 22:27:26 Starting - Preparing the instances for training......\n",
      "2020-10-26 22:28:27 Downloading - Downloading input data...\n",
      "2020-10-26 22:28:57 Training - Downloading the training image...\n",
      "2020-10-26 22:29:28 Training - Training image download completed. Training in progress.\u001b[34mINFO:sagemaker-containers:Imported framework sagemaker_xgboost_container.training\u001b[0m\n",
      "\u001b[34mINFO:sagemaker-containers:Failed to parse hyperparameter objective value reg:linear to Json.\u001b[0m\n",
      "\u001b[34mReturning the value itself\u001b[0m\n",
      "\u001b[34mINFO:sagemaker-containers:No GPUs detected (normal if no gpus installed)\u001b[0m\n",
      "\u001b[34mINFO:sagemaker_xgboost_container.training:Running XGBoost Sagemaker in algorithm mode\u001b[0m\n",
      "\u001b[34mINFO:root:Determined delimiter of CSV input is ','\u001b[0m\n",
      "\u001b[34mINFO:root:Determined delimiter of CSV input is ','\u001b[0m\n",
      "\u001b[34mINFO:root:Determined delimiter of CSV input is ','\u001b[0m\n",
      "\u001b[34m[22:29:30] 5655000x33 matrix with 184896885 entries loaded from /opt/ml/input/data/train?format=csv&label_column=0&delimiter=,\u001b[0m\n",
      "\u001b[34mINFO:root:Determined delimiter of CSV input is ','\u001b[0m\n",
      "\u001b[34m[22:29:30] 84000x33 matrix with 2764794 entries loaded from /opt/ml/input/data/validation?format=csv&label_column=0&delimiter=,\u001b[0m\n",
      "\u001b[34mINFO:root:Single node training.\u001b[0m\n",
      "\u001b[34m[2020-10-26 22:29:30.691 ip-10-2-138-198.ec2.internal:1 INFO json_config.py:90] Creating hook from json_config at /opt/ml/input/config/debughookconfig.json.\u001b[0m\n",
      "\u001b[34m[2020-10-26 22:29:30.691 ip-10-2-138-198.ec2.internal:1 INFO hook.py:151] tensorboard_dir has not been set for the hook. SMDebug will not be exporting tensorboard summaries.\u001b[0m\n",
      "\u001b[34m[2020-10-26 22:29:30.691 ip-10-2-138-198.ec2.internal:1 INFO hook.py:196] Saving to /opt/ml/output/tensors\u001b[0m\n",
      "\u001b[34mINFO:root:Debug hook created from config\u001b[0m\n",
      "\u001b[34mINFO:root:Train matrix has 5655000 rows\u001b[0m\n",
      "\u001b[34mINFO:root:Validation matrix has 84000 rows\u001b[0m\n",
      "\u001b[34m[22:29:30] WARNING: /workspace/src/objective/regression_obj.cu:167: reg:linear is now deprecated in favor of reg:squarederror.\u001b[0m\n",
      "\u001b[34m[22:29:30] WARNING: /workspace/src/learner.cc:328: \u001b[0m\n",
      "\u001b[34mParameters: { num_round, silent } might not be used.\n",
      "\n",
      "  This may not be accurate due to some parameters are only used in language bindings but\n",
      "  passed down to XGBoost core.  Or some parameters are not used but slip through this\n",
      "  verification. Please open an issue if you find above cases.\n",
      "\n",
      "\u001b[0m\n",
      "\u001b[34m[22:29:31] WARNING: /workspace/src/gbm/gbtree.cc:138: Tree method is automatically selected to be 'approx' for faster speed. To use old behavior (exact greedy algorithm on single machine), set tree_method to 'exact'.\u001b[0m\n",
      "\u001b[34m[0]#011train-rmse:2.81133#011validation-rmse:2.84513\u001b[0m\n",
      "\u001b[34m[2020-10-26 22:29:41.426 ip-10-2-138-198.ec2.internal:1 INFO hook.py:325] Monitoring the collections: losses, feature_importance, metrics\u001b[0m\n",
      "\u001b[34m[1]#011train-rmse:2.68953#011validation-rmse:2.70485\u001b[0m\n",
      "\u001b[34m[2]#011train-rmse:2.59784#011validation-rmse:2.59719\u001b[0m\n",
      "\u001b[34m[3]#011train-rmse:2.53092#011validation-rmse:2.51695\u001b[0m\n",
      "\u001b[34m[4]#011train-rmse:2.47048#011validation-rmse:2.44676\u001b[0m\n",
      "\u001b[34m[5]#011train-rmse:2.42417#011validation-rmse:2.39590\u001b[0m\n",
      "\u001b[34m[6]#011train-rmse:2.39238#011validation-rmse:2.35475\u001b[0m\n",
      "\u001b[34m[7]#011train-rmse:2.36222#011validation-rmse:2.32331\u001b[0m\n",
      "\u001b[34m[8]#011train-rmse:2.34373#011validation-rmse:2.29768\u001b[0m\n",
      "\u001b[34m[9]#011train-rmse:2.32388#011validation-rmse:2.26776\u001b[0m\n",
      "\u001b[34m[10]#011train-rmse:2.30447#011validation-rmse:2.25072\u001b[0m\n",
      "\u001b[34m[11]#011train-rmse:2.29056#011validation-rmse:2.23615\u001b[0m\n",
      "\u001b[34m[12]#011train-rmse:2.27897#011validation-rmse:2.21838\u001b[0m\n",
      "\u001b[34m[13]#011train-rmse:2.26974#011validation-rmse:2.20750\u001b[0m\n",
      "\u001b[34m[14]#011train-rmse:2.26097#011validation-rmse:2.18930\u001b[0m\n",
      "\u001b[34m[15]#011train-rmse:2.25618#011validation-rmse:2.18188\u001b[0m\n",
      "\u001b[34m[16]#011train-rmse:2.24940#011validation-rmse:2.17220\u001b[0m\n",
      "\u001b[34m[17]#011train-rmse:2.23342#011validation-rmse:2.16689\u001b[0m\n",
      "\u001b[34m[18]#011train-rmse:2.22839#011validation-rmse:2.15627\u001b[0m\n",
      "\u001b[34m[19]#011train-rmse:2.22392#011validation-rmse:2.14275\u001b[0m\n",
      "\n",
      "2020-10-26 22:31:30 Uploading - Uploading generated training model\n",
      "2020-10-26 22:31:30 Completed - Training job completed\n",
      "Training seconds: 190\n",
      "Billable seconds: 190\n"
     ]
    },
    {
     "name": "stderr",
     "output_type": "stream",
     "text": [
      "WARNING:sagemaker.estimator:Parameter image_name will be renamed to image_uri in SageMaker Python SDK v2.\n",
      "INFO:sagemaker:Creating training-job with name: m5predict-xgboost-training-job-1603751508\n"
     ]
    },
    {
     "name": "stdout",
     "output_type": "stream",
     "text": [
      "2020-10-26 22:31:48 Starting - Starting the training job...\n",
      "2020-10-26 22:32:12 Starting - Launching requested ML instances\n",
      "********* Debugger Rule Status *********\n",
      "*\n",
      "*  LossNotDecreasing: InProgress        \n",
      "*\n",
      "****************************************\n",
      ".........\n",
      "2020-10-26 22:33:33 Starting - Preparing the instances for training......\n",
      "2020-10-26 22:34:34 Downloading - Downloading input data...\n",
      "2020-10-26 22:35:19 Training - Downloading the training image...\n",
      "2020-10-26 22:35:39 Training - Training image download completed. Training in progress.\u001b[34mINFO:sagemaker-containers:Imported framework sagemaker_xgboost_container.training\u001b[0m\n",
      "\u001b[34mINFO:sagemaker-containers:Failed to parse hyperparameter objective value reg:linear to Json.\u001b[0m\n",
      "\u001b[34mReturning the value itself\u001b[0m\n",
      "\u001b[34mINFO:sagemaker-containers:No GPUs detected (normal if no gpus installed)\u001b[0m\n",
      "\u001b[34mINFO:sagemaker_xgboost_container.training:Running XGBoost Sagemaker in algorithm mode\u001b[0m\n",
      "\u001b[34mINFO:root:Determined delimiter of CSV input is ','\u001b[0m\n",
      "\u001b[34mINFO:root:Determined delimiter of CSV input is ','\u001b[0m\n",
      "\u001b[34mINFO:root:Determined delimiter of CSV input is ','\u001b[0m\n",
      "\u001b[34m[22:35:51] 5655000x33 matrix with 184896885 entries loaded from /opt/ml/input/data/train?format=csv&label_column=0&delimiter=,\u001b[0m\n",
      "\u001b[34mINFO:root:Determined delimiter of CSV input is ','\u001b[0m\n",
      "\u001b[34m[22:35:51] 84000x33 matrix with 2764794 entries loaded from /opt/ml/input/data/validation?format=csv&label_column=0&delimiter=,\u001b[0m\n",
      "\u001b[34mINFO:root:Single node training.\u001b[0m\n",
      "\u001b[34m[2020-10-26 22:35:51.282 ip-10-0-126-136.ec2.internal:1 INFO json_config.py:90] Creating hook from json_config at /opt/ml/input/config/debughookconfig.json.\u001b[0m\n",
      "\u001b[34m[2020-10-26 22:35:51.283 ip-10-0-126-136.ec2.internal:1 INFO hook.py:151] tensorboard_dir has not been set for the hook. SMDebug will not be exporting tensorboard summaries.\u001b[0m\n",
      "\u001b[34m[2020-10-26 22:35:51.283 ip-10-0-126-136.ec2.internal:1 INFO hook.py:196] Saving to /opt/ml/output/tensors\u001b[0m\n",
      "\u001b[34mINFO:root:Debug hook created from config\u001b[0m\n",
      "\u001b[34mINFO:root:Train matrix has 5655000 rows\u001b[0m\n",
      "\u001b[34mINFO:root:Validation matrix has 84000 rows\u001b[0m\n",
      "\u001b[34m[22:35:51] WARNING: /workspace/src/objective/regression_obj.cu:167: reg:linear is now deprecated in favor of reg:squarederror.\u001b[0m\n",
      "\u001b[34m[22:35:51] WARNING: /workspace/src/learner.cc:328: \u001b[0m\n",
      "\u001b[34mParameters: { num_round, silent } might not be used.\n",
      "\n",
      "  This may not be accurate due to some parameters are only used in language bindings but\n",
      "  passed down to XGBoost core.  Or some parameters are not used but slip through this\n",
      "  verification. Please open an issue if you find above cases.\n",
      "\n",
      "\u001b[0m\n",
      "\u001b[34m[22:35:52] WARNING: /workspace/src/gbm/gbtree.cc:138: Tree method is automatically selected to be 'approx' for faster speed. To use old behavior (exact greedy algorithm on single machine), set tree_method to 'exact'.\u001b[0m\n",
      "\u001b[34m[0]#011train-rmse:2.71991#011validation-rmse:2.72042\u001b[0m\n",
      "\u001b[34m[2020-10-26 22:36:08.047 ip-10-0-126-136.ec2.internal:1 INFO hook.py:325] Monitoring the collections: feature_importance, metrics, losses\u001b[0m\n",
      "\u001b[34m[1]#011train-rmse:2.54167#011validation-rmse:2.49341\u001b[0m\n",
      "\u001b[34m[2]#011train-rmse:2.41708#011validation-rmse:2.33006\u001b[0m\n",
      "\u001b[34m[3]#011train-rmse:2.32961#011validation-rmse:2.22784\u001b[0m\n",
      "\u001b[34m[4]#011train-rmse:2.27055#011validation-rmse:2.15082\u001b[0m\n",
      "\u001b[34m[5]#011train-rmse:2.22968#011validation-rmse:2.09843\u001b[0m\n",
      "\u001b[34m[6]#011train-rmse:2.20243#011validation-rmse:2.06473\u001b[0m\n",
      "\u001b[34m[7]#011train-rmse:2.18311#011validation-rmse:2.04217\u001b[0m\n"
     ]
    }
   ],
   "source": [
    "\n",
    "from smexperiments.trial import Trial\n",
    "import sagemaker\n",
    "from sagemaker.debugger import rule_configs, Rule\n",
    "from sagemaker.debugger import DebuggerHookConfig, CollectionConfig\n",
    "from smdebug.trials import create_trial\n",
    "\n",
    "\n",
    "save_interval = 5\n",
    "sess = sagemaker.Session()\n",
    "trial_info = [] \n",
    "\n",
    "for i, tree_max_depth in enumerate([1,5,9]):\n",
    "    # create trial\n",
    "    trial_name = f\"xgboost-training-job-{tree_max_depth}-treemaxdepth-{int(time.time())}\"\n",
    "    xgboost_trial = Trial.create(\n",
    "        trial_name=trial_name, \n",
    "        experiment_name=m5predict_experiment.experiment_name,\n",
    "        sagemaker_boto_client=sm,\n",
    "    )\n",
    "    \n",
    "    bucket_path = 's3://{}/{}'.format(bucket,trial_name)\n",
    "    debugger_hook_config_xgboost=get_debugger_hook(bucket_path, save_interval)\n",
    "    debug_rules=get_debugger_rule(save_interval)\n",
    "\n",
    "    \n",
    "\n",
    "    xgb = sagemaker.estimator.Estimator(container,\n",
    "                                    role, \n",
    "                                    train_instance_count=1, \n",
    "                                    train_instance_type='ml.m4.xlarge',\n",
    "                                    output_path='s3://{}/{}/output'.format(bucket, prefix),\n",
    "                                    sagemaker_session=sess,\n",
    "                                    debugger_hook_config=debugger_hook_config_xgboost,\n",
    "                                    rules=debug_rules)\n",
    "    xgb.set_hyperparameters(max_depth=tree_max_depth,\n",
    "                        eta=0.2,\n",
    "                        gamma=4,\n",
    "                        min_child_weight=6,\n",
    "                        subsample=0.8,\n",
    "                        silent=0,\n",
    "                        objective='reg:linear',\n",
    "                        num_round=20)\n",
    "    \n",
    "    xgboost_training_job_name = \"m5predict-xgboost-training-job-{}\".format(int(time.time()))\n",
    "    \n",
    "    \n",
    "    xgb.fit(\n",
    "        inputs={'train': s3_input_train, 'validation': s3_input_validation},\n",
    "        job_name=xgboost_training_job_name,\n",
    "        experiment_config={\n",
    "            \"TrialName\": xgboost_trial.trial_name,\n",
    "            \"TrialComponentDisplayName\": \"Training\",\n",
    "        },\n",
    "        wait=True,\n",
    "    )\n",
    "    s3_output_path = xgb.latest_job_debugger_artifacts_path()\n",
    "    trial_info.append((trial_name, s3_output_path))\n",
    "\n",
    "    # give it a while before dispatching the next training job\n",
    "    time.sleep(2)\n",
    "\n",
    "\n"
   ]
  },
  {
   "cell_type": "code",
   "execution_count": null,
   "metadata": {},
   "outputs": [],
   "source": [
    "for trial_name, s3_output_path in trial_info: \n",
    "    print(\"loading {} of trial:{}\".format(s3_output_path, trial_name))\n",
    "    trial = create_trial(s3_output_path)\n",
    "    plot_collection(trial, \"metrics\")\n",
    "    plot_feature_importance(trial)"
   ]
  }
 ],
 "metadata": {
  "kernelspec": {
   "display_name": "conda_python3",
   "language": "python",
   "name": "conda_python3"
  },
  "language_info": {
   "codemirror_mode": {
    "name": "ipython",
    "version": 3
   },
   "file_extension": ".py",
   "mimetype": "text/x-python",
   "name": "python",
   "nbconvert_exporter": "python",
   "pygments_lexer": "ipython3",
   "version": "3.6.10"
  }
 },
 "nbformat": 4,
 "nbformat_minor": 4
}
